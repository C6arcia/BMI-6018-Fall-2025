{
 "cells": [
  {
   "cell_type": "code",
   "execution_count": 1,
   "id": "a44174a4-6577-46ff-b550-2485a7563080",
   "metadata": {},
   "outputs": [
    {
     "name": "stdout",
     "output_type": "stream",
     "text": [
      "[15, 16, 17, 18]\n"
     ]
    }
   ],
   "source": [
    "#Write the a python program that, given an input list of any level of complexity/nestedness, \n",
    "#will return the inner most list plus 1. This is to be done with recursion.\n",
    "#Note: the input will contain only integers or lists. \n",
    "\n",
    "\"\"\"\n",
    "Created an input list that is nested and complex with only integers (copied from while_inner_plus.py)\n",
    "\"\"\"\n",
    "input_list = [1, 2, 3,[4, 5, 6, 7,8, [9, [10, 11, 12, 13,[14, 15, 16, 17], 18, 19, 20, 21], 22]]]\n",
    "\n",
    "def recursive_inner_plus(input_list):\n",
    "    for item in input_list:\n",
    "        if isinstance(item, list):\n",
    "            return recursive_inner_plus(item)\n",
    "    return [x + 1 for x in input_list]\n",
    "result = recursive_inner_plus(input_list)\n",
    "print(result)"
   ]
  },
  {
   "cell_type": "code",
   "execution_count": null,
   "id": "e1b3f1d1-fe4f-4754-a152-4f6ae55710ca",
   "metadata": {},
   "outputs": [],
   "source": []
  }
 ],
 "metadata": {
  "kernelspec": {
   "display_name": "Python 3 (ipykernel)",
   "language": "python",
   "name": "python3"
  },
  "language_info": {
   "codemirror_mode": {
    "name": "ipython",
    "version": 3
   },
   "file_extension": ".py",
   "mimetype": "text/x-python",
   "name": "python",
   "nbconvert_exporter": "python",
   "pygments_lexer": "ipython3",
   "version": "3.13.7"
  }
 },
 "nbformat": 4,
 "nbformat_minor": 5
}
