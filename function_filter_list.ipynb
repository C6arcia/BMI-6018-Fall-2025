{
 "cells": [
  {
   "cell_type": "code",
   "execution_count": 10,
   "id": "06d90897-db99-47ce-914c-06d937402c55",
   "metadata": {},
   "outputs": [
    {
     "name": "stdout",
     "output_type": "stream",
     "text": [
      "[1, 2, 3, 4, 5, 6]\n"
     ]
    }
   ],
   "source": [
    "#Write a python program that, given an input list, will filter the input above a user defined threshold. \n",
    "#This is to be done with a standard function.\n",
    "#That is, given a list [1,2,3,4,5,6,7,8,9], and an argument (6), it should return [1,2,3,4,5,6]\n",
    "\n",
    "input_list = [1,2,3,4,5,6,7,8,9]\n",
    "defined_threshold = 6\n",
    "def function_filter_list(input_list, defined_threshold):\n",
    "    filtered = []\n",
    "    for item in input_list:\n",
    "        if item <= defined_threshold:\n",
    "            filtered.append(item)\n",
    "    return filtered\n",
    "result = function_filter_list(input_list, defined_threshold)\n",
    "print(result)\n"
   ]
  }
 ],
 "metadata": {
  "kernelspec": {
   "display_name": "Python 3 (ipykernel)",
   "language": "python",
   "name": "python3"
  },
  "language_info": {
   "codemirror_mode": {
    "name": "ipython",
    "version": 3
   },
   "file_extension": ".py",
   "mimetype": "text/x-python",
   "name": "python",
   "nbconvert_exporter": "python",
   "pygments_lexer": "ipython3",
   "version": "3.13.7"
  }
 },
 "nbformat": 4,
 "nbformat_minor": 5
}
