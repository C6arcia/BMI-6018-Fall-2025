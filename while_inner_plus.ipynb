{
 "cells": [
  {
   "cell_type": "code",
   "execution_count": null,
   "id": "bcba5860-6210-4d45-9ebf-c9c331757d27",
   "metadata": {},
   "outputs": [],
   "source": [
    "#Write a python program that, given an input list of any level of complexity/nestedness, \n",
    "#will return the inner most list plus 1. This is to be done with a while loop. \n",
    "#Note: the input will contain only integers or lists. \n",
    "#As an example:\n",
    "\n",
    "#input_list = [1,2,3,4,[5,6,7,[8,9]]]\n",
    "\n",
    "#your_py_program.py input_list\n",
    "\n",
    "#will produce:\n",
    "\n",
    "#[9,10]\n",
    "\n",
    "#That is [8, 9] (the inner most list) plus 1 -> [9, 10]\n",
    "\n",
    "\n",
    "\"\"\"\n",
    "Created an input list that is nested and complex with only integers\n",
    "\"\"\"\n",
    "input_list = [1, 2, 3,[4, 5, 6, 7,8, [9, [10, 11, 12, 13,[14, 15, 16, 17], 18, 19, 20, 21], 22]]]\n",
    "\n",
    "def while_inner_plus(input_list):\n",
    "    while any(isinstance(i, list) for i in input_list):\n",
    "        for i in input_list:\n",
    "            if isinstance(i, list):\n",
    "                input_list = i\n",
    "                break \n",
    "    return [x + 1 for x in input_list]\n",
    "result = while_inner_plus(input_list)\n",
    "print(\"inner most list plus 1 =\", result)\n"
   ]
  },
  {
   "cell_type": "code",
   "execution_count": null,
   "id": "b8c2cf32-e0a8-40c3-95a5-86a3d397e361",
   "metadata": {},
   "outputs": [],
   "source": []
  }
 ],
 "metadata": {
  "kernelspec": {
   "display_name": "Python 3 (ipykernel)",
   "language": "python",
   "name": "python3"
  },
  "language_info": {
   "codemirror_mode": {
    "name": "ipython",
    "version": 3
   },
   "file_extension": ".py",
   "mimetype": "text/x-python",
   "name": "python",
   "nbconvert_exporter": "python",
   "pygments_lexer": "ipython3",
   "version": "3.13.7"
  }
 },
 "nbformat": 4,
 "nbformat_minor": 5
}
